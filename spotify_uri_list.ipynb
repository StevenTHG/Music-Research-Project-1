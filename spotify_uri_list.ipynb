{
 "cells": [
  {
   "cell_type": "code",
   "execution_count": 6,
   "metadata": {},
   "outputs": [],
   "source": [
    "import requests\n",
    "import pandas as pd\n",
    "from pprint import pprint\n",
    "\n",
    "CLIENT_ID = 'b4d023fcb19148bb998d675f89b6c302'\n",
    "CLIENT_SECRET = '81930c900ac44ddcbbf9517abc26f15b'"
   ]
  },
  {
   "cell_type": "code",
   "execution_count": 2,
   "metadata": {},
   "outputs": [],
   "source": [
    "AUTH_URL = 'https://accounts.spotify.com/api/token'\n",
    "\n",
    "# POST\n",
    "auth_response = requests.post(AUTH_URL, {\n",
    "    'grant_type': 'client_credentials',\n",
    "    'client_id': CLIENT_ID,\n",
    "    'client_secret': CLIENT_SECRET,\n",
    "})\n",
    "\n",
    "# convert the response to JSON\n",
    "auth_response_data = auth_response.json()\n",
    "\n",
    "# save the access token\n",
    "access_token = auth_response_data['access_token']"
   ]
  },
  {
   "cell_type": "code",
   "execution_count": 3,
   "metadata": {},
   "outputs": [],
   "source": [
    "headers = {\n",
    "    'Authorization': 'Bearer {token}'.format(token=access_token)\n",
    "}"
   ]
  },
  {
   "cell_type": "code",
   "execution_count": 4,
   "metadata": {},
   "outputs": [],
   "source": [
    "# base URL of all Spotify API endpoints\n",
    "Search_URL = 'https://api.spotify.com/v1/search'"
   ]
  },
  {
   "cell_type": "code",
   "execution_count": 7,
   "metadata": {},
   "outputs": [
    {
     "data": {
      "text/html": [
       "<div>\n",
       "<style scoped>\n",
       "    .dataframe tbody tr th:only-of-type {\n",
       "        vertical-align: middle;\n",
       "    }\n",
       "\n",
       "    .dataframe tbody tr th {\n",
       "        vertical-align: top;\n",
       "    }\n",
       "\n",
       "    .dataframe thead th {\n",
       "        text-align: right;\n",
       "    }\n",
       "</style>\n",
       "<table border=\"1\" class=\"dataframe\">\n",
       "  <thead>\n",
       "    <tr style=\"text-align: right;\">\n",
       "      <th></th>\n",
       "      <th>Genre</th>\n",
       "      <th>Genre ID</th>\n",
       "      <th>Artist</th>\n",
       "    </tr>\n",
       "  </thead>\n",
       "  <tbody>\n",
       "    <tr>\n",
       "      <th>0</th>\n",
       "      <td>Pop</td>\n",
       "      <td>g.115</td>\n",
       "      <td>Michael Jackson</td>\n",
       "    </tr>\n",
       "    <tr>\n",
       "      <th>1</th>\n",
       "      <td>Pop</td>\n",
       "      <td>g.115</td>\n",
       "      <td>Madonna</td>\n",
       "    </tr>\n",
       "    <tr>\n",
       "      <th>2</th>\n",
       "      <td>Pop</td>\n",
       "      <td>g.115</td>\n",
       "      <td>Bruno Mars</td>\n",
       "    </tr>\n",
       "    <tr>\n",
       "      <th>3</th>\n",
       "      <td>Pop</td>\n",
       "      <td>g.115</td>\n",
       "      <td>Elton John</td>\n",
       "    </tr>\n",
       "    <tr>\n",
       "      <th>4</th>\n",
       "      <td>Pop</td>\n",
       "      <td>g.115</td>\n",
       "      <td>Taylor Swift</td>\n",
       "    </tr>\n",
       "  </tbody>\n",
       "</table>\n",
       "</div>"
      ],
      "text/plain": [
       "  Genre Genre ID           Artist\n",
       "0   Pop    g.115  Michael Jackson\n",
       "1   Pop    g.115          Madonna\n",
       "2   Pop    g.115       Bruno Mars\n",
       "3   Pop    g.115       Elton John\n",
       "4   Pop    g.115     Taylor Swift"
      ]
     },
     "execution_count": 7,
     "metadata": {},
     "output_type": "execute_result"
    }
   ],
   "source": [
    "genre_artist_df = pd.read_csv('../Music-Research-Project-1/Resources/genre_artist_list.csv')\n",
    "genre_artist_df.head()"
   ]
  },
  {
   "cell_type": "code",
   "execution_count": 8,
   "metadata": {},
   "outputs": [],
   "source": [
    "artist_name= \"Linkin Park\""
   ]
  },
  {
   "cell_type": "code",
   "execution_count": 9,
   "metadata": {},
   "outputs": [],
   "source": [
    "artist_info = requests.get(\n",
    "Search_URL,\n",
    "headers=headers,\n",
    "params={'q': artist_name, 'type': 'artist'}).json()\n"
   ]
  },
  {
   "cell_type": "code",
   "execution_count": 11,
   "metadata": {},
   "outputs": [
    {
     "name": "stdout",
     "output_type": "stream",
     "text": [
      "6XyY86QOPPrYVGvF9ch6wz\n"
     ]
    }
   ],
   "source": [
    "uri = artist_info['artists']['items'][0]['id']\n",
    "print(uri)"
   ]
  },
  {
   "cell_type": "code",
   "execution_count": 14,
   "metadata": {},
   "outputs": [
    {
     "name": "stdout",
     "output_type": "stream",
     "text": [
      "Diplo feat. Lil Pump, Juicy J, Famous Dex & French Montana not found on Spotify!\n"
     ]
    }
   ],
   "source": [
    "id = []\n",
    "\n",
    "for artist in genre_artist_df['Artist']:\n",
    "    try:\n",
    "        artist_info = requests.get(\n",
    "        Search_URL,\n",
    "        headers=headers,\n",
    "        params={'q': artist, 'type': 'artist'}).json()\n",
    "\n",
    "        uri = artist_info['artists']['items'][0]['id']\n",
    "        id.append(uri)\n",
    "    except:\n",
    "        print(f'{artist} not found on Spotify!')\n",
    "        id.append('NaN')"
   ]
  },
  {
   "cell_type": "code",
   "execution_count": 15,
   "metadata": {},
   "outputs": [
    {
     "data": {
      "text/plain": [
       "460"
      ]
     },
     "execution_count": 15,
     "metadata": {},
     "output_type": "execute_result"
    }
   ],
   "source": [
    "len(id)"
   ]
  },
  {
   "cell_type": "code",
   "execution_count": 16,
   "metadata": {},
   "outputs": [
    {
     "data": {
      "text/html": [
       "<div>\n",
       "<style scoped>\n",
       "    .dataframe tbody tr th:only-of-type {\n",
       "        vertical-align: middle;\n",
       "    }\n",
       "\n",
       "    .dataframe tbody tr th {\n",
       "        vertical-align: top;\n",
       "    }\n",
       "\n",
       "    .dataframe thead th {\n",
       "        text-align: right;\n",
       "    }\n",
       "</style>\n",
       "<table border=\"1\" class=\"dataframe\">\n",
       "  <thead>\n",
       "    <tr style=\"text-align: right;\">\n",
       "      <th></th>\n",
       "      <th>Genre</th>\n",
       "      <th>Genre ID</th>\n",
       "      <th>Artist</th>\n",
       "      <th>Spotify ID</th>\n",
       "    </tr>\n",
       "  </thead>\n",
       "  <tbody>\n",
       "    <tr>\n",
       "      <th>0</th>\n",
       "      <td>Pop</td>\n",
       "      <td>g.115</td>\n",
       "      <td>Michael Jackson</td>\n",
       "      <td>3fMbdgg4jU18AjLCKBhRSm</td>\n",
       "    </tr>\n",
       "    <tr>\n",
       "      <th>1</th>\n",
       "      <td>Pop</td>\n",
       "      <td>g.115</td>\n",
       "      <td>Madonna</td>\n",
       "      <td>6tbjWDEIzxoDsBA1FuhfPW</td>\n",
       "    </tr>\n",
       "    <tr>\n",
       "      <th>2</th>\n",
       "      <td>Pop</td>\n",
       "      <td>g.115</td>\n",
       "      <td>Bruno Mars</td>\n",
       "      <td>0du5cEVh5yTK9QJze8zA0C</td>\n",
       "    </tr>\n",
       "    <tr>\n",
       "      <th>3</th>\n",
       "      <td>Pop</td>\n",
       "      <td>g.115</td>\n",
       "      <td>Elton John</td>\n",
       "      <td>3PhoLpVuITZKcymswpck5b</td>\n",
       "    </tr>\n",
       "    <tr>\n",
       "      <th>4</th>\n",
       "      <td>Pop</td>\n",
       "      <td>g.115</td>\n",
       "      <td>Taylor Swift</td>\n",
       "      <td>06HL4z0CvFAxyc27GXpf02</td>\n",
       "    </tr>\n",
       "  </tbody>\n",
       "</table>\n",
       "</div>"
      ],
      "text/plain": [
       "  Genre Genre ID           Artist              Spotify ID\n",
       "0   Pop    g.115  Michael Jackson  3fMbdgg4jU18AjLCKBhRSm\n",
       "1   Pop    g.115          Madonna  6tbjWDEIzxoDsBA1FuhfPW\n",
       "2   Pop    g.115       Bruno Mars  0du5cEVh5yTK9QJze8zA0C\n",
       "3   Pop    g.115       Elton John  3PhoLpVuITZKcymswpck5b\n",
       "4   Pop    g.115     Taylor Swift  06HL4z0CvFAxyc27GXpf02"
      ]
     },
     "execution_count": 16,
     "metadata": {},
     "output_type": "execute_result"
    }
   ],
   "source": [
    "genre_artist_df['Spotify ID'] = id\n",
    "genre_artist_df.head()"
   ]
  },
  {
   "cell_type": "code",
   "execution_count": 17,
   "metadata": {},
   "outputs": [],
   "source": [
    "mj_id = 'spotify:artist:3fMbdgg4jU18AjLCKBhRSm'"
   ]
  },
  {
   "cell_type": "code",
   "execution_count": 26,
   "metadata": {},
   "outputs": [],
   "source": [
    "import spotipy\n",
    "from spotipy.oauth2 import SpotifyOAuth\n",
    "\n",
    "sp = spotipy.Spotify(auth_manager=SpotifyOAuth(client_id=CLIENT_ID,\n",
    "                                               client_secret=CLIENT_SECRET,\n",
    "                                               redirect_uri='http://localhost:1234',\n",
    "                                               scope=\"user-library-read\"))\n"
   ]
  },
  {
   "cell_type": "code",
   "execution_count": null,
   "metadata": {},
   "outputs": [],
   "source": [
    "tracks = sp.artist_top_tracks(mj_id,country='US')"
   ]
  },
  {
   "cell_type": "code",
   "execution_count": 45,
   "metadata": {},
   "outputs": [
    {
     "name": "stdout",
     "output_type": "stream",
     "text": [
      "Michael Jackson\n"
     ]
    }
   ],
   "source": [
    "print(tracks['tracks'][0]['album']['artists'][0]['name'])"
   ]
  },
  {
   "cell_type": "code",
   "execution_count": null,
   "metadata": {},
   "outputs": [],
   "source": [
    "for track in tracks['tracks'][:10]:\n",
    "    print('track    : ' + track['name'] + '| uri: ' + track['uri'])"
   ]
  },
  {
   "cell_type": "code",
   "execution_count": 36,
   "metadata": {},
   "outputs": [
    {
     "name": "stdout",
     "output_type": "stream",
     "text": [
      "[{'danceability': 0.853, 'energy': 0.981, 'key': 8, 'loudness': -3.947, 'mode': 1, 'speechiness': 0.0751, 'acousticness': 0.247, 'instrumentalness': 0.468, 'liveness': 0.306, 'valence': 0.595, 'tempo': 118.193, 'type': 'audio_features', 'id': '2bCQHF9gdG5BNDVuEIEnNk', 'uri': 'spotify:track:2bCQHF9gdG5BNDVuEIEnNk', 'track_href': 'https://api.spotify.com/v1/tracks/2bCQHF9gdG5BNDVuEIEnNk', 'analysis_url': 'https://api.spotify.com/v1/audio-analysis/2bCQHF9gdG5BNDVuEIEnNk', 'duration_ms': 257760, 'time_signature': 4}]\n"
     ]
    }
   ],
   "source": [
    "track1 = sp.audio_features(\n",
    "    'spotify:track:2bCQHF9gdG5BNDVuEIEnNk'\n",
    ")\n",
    "print(track1)"
   ]
  },
  {
   "cell_type": "code",
   "execution_count": 40,
   "metadata": {},
   "outputs": [
    {
     "data": {
      "text/plain": [
       "dict"
      ]
     },
     "execution_count": 40,
     "metadata": {},
     "output_type": "execute_result"
    }
   ],
   "source": [
    "type(track1[0])"
   ]
  },
  {
   "cell_type": "code",
   "execution_count": 48,
   "metadata": {},
   "outputs": [
    {
     "data": {
      "text/plain": [
       "Int64Index([383], dtype='int64')"
      ]
     },
     "execution_count": 48,
     "metadata": {},
     "output_type": "execute_result"
    }
   ],
   "source": [
    "genre_artist_df[genre_artist_df['Artist'] == 'Diplo feat. Lil Pump, Juicy J, Famous Dex & French Montana'].index"
   ]
  },
  {
   "cell_type": "code",
   "execution_count": 49,
   "metadata": {},
   "outputs": [],
   "source": [
    "cleaned_artist_df =genre_artist_df.drop(genre_artist_df.index[383], axis=0)"
   ]
  },
  {
   "cell_type": "code",
   "execution_count": 50,
   "metadata": {},
   "outputs": [
    {
     "data": {
      "text/plain": [
       "459"
      ]
     },
     "execution_count": 50,
     "metadata": {},
     "output_type": "execute_result"
    }
   ],
   "source": [
    "len(cleaned_artist_df)"
   ]
  },
  {
   "cell_type": "code",
   "execution_count": 56,
   "metadata": {},
   "outputs": [
    {
     "name": "stdout",
     "output_type": "stream",
     "text": [
      "Diplo feat. Lil Pump, Juicy J, Famous Dex & French Montana\n"
     ]
    }
   ],
   "source": [
    "print(genre_artist_df['Artist'].iloc[383])"
   ]
  },
  {
   "cell_type": "code",
   "execution_count": 58,
   "metadata": {},
   "outputs": [],
   "source": [
    "error_dict = {'danceability': 'NA', 'energy': 'NA', 'key': 'NA', 'loudness': 'NA', 'mode': 'NA',\n",
    " 'speechiness': 'NA', 'acousticness': 'NA', 'instrumentalness': 'NA', 'liveness': 'NA', \n",
    " 'valence': 'NA', 'tempo': 'NA', 'type': 'audio_features', 'id': 'NA', \n",
    " 'uri': 'NA', 'track_href': 'NA', \n",
    " 'analysis_url': 'NA', 'duration_ms': 'NA', 'time_signature': 'NA'}"
   ]
  },
  {
   "cell_type": "code",
   "execution_count": 61,
   "metadata": {},
   "outputs": [
    {
     "name": "stdout",
     "output_type": "stream",
     "text": [
      "50 Reggae Lovers Rock Songs - Continuous Mix encountered an error!\n"
     ]
    }
   ],
   "source": [
    "track_features = []\n",
    "\n",
    "for s_id in cleaned_artist_df['Spotify ID']:\n",
    "    current_id = f'spotify:artist:{s_id}'\n",
    "    current_tracks = sp.artist_top_tracks(current_id,country='US')\n",
    "    try:\n",
    "        for track in current_tracks['tracks'][:10]:\n",
    "            track_info = {'Artist': track['album']['artists'][0]['name'], 'Track': track['name'], 'Track ID': track['uri']}\n",
    "            track_audiofeat = sp.audio_features(track['uri'])\n",
    "            track_info.update(track_audiofeat[0])\n",
    "            track_features.append(track_info)\n",
    "    except:\n",
    "        name = track['name']\n",
    "        print(f'{name} encountered an error!')\n",
    "        track_info = {'Artist': track['album']['artists'][0]['name'], 'Track': track['name'], 'Track ID': track['uri']}\n",
    "        track_info.update(error_dict)\n",
    "        track_features.append(track_info)\n",
    "    "
   ]
  },
  {
   "cell_type": "code",
   "execution_count": 62,
   "metadata": {},
   "outputs": [
    {
     "data": {
      "text/html": [
       "<div>\n",
       "<style scoped>\n",
       "    .dataframe tbody tr th:only-of-type {\n",
       "        vertical-align: middle;\n",
       "    }\n",
       "\n",
       "    .dataframe tbody tr th {\n",
       "        vertical-align: top;\n",
       "    }\n",
       "\n",
       "    .dataframe thead th {\n",
       "        text-align: right;\n",
       "    }\n",
       "</style>\n",
       "<table border=\"1\" class=\"dataframe\">\n",
       "  <thead>\n",
       "    <tr style=\"text-align: right;\">\n",
       "      <th></th>\n",
       "      <th>Artist</th>\n",
       "      <th>Track</th>\n",
       "      <th>Track ID</th>\n",
       "      <th>danceability</th>\n",
       "      <th>energy</th>\n",
       "      <th>key</th>\n",
       "      <th>loudness</th>\n",
       "      <th>mode</th>\n",
       "      <th>speechiness</th>\n",
       "      <th>acousticness</th>\n",
       "      <th>...</th>\n",
       "      <th>liveness</th>\n",
       "      <th>valence</th>\n",
       "      <th>tempo</th>\n",
       "      <th>type</th>\n",
       "      <th>id</th>\n",
       "      <th>uri</th>\n",
       "      <th>track_href</th>\n",
       "      <th>analysis_url</th>\n",
       "      <th>duration_ms</th>\n",
       "      <th>time_signature</th>\n",
       "    </tr>\n",
       "  </thead>\n",
       "  <tbody>\n",
       "    <tr>\n",
       "      <th>0</th>\n",
       "      <td>Michael Jackson</td>\n",
       "      <td>Billie Jean</td>\n",
       "      <td>spotify:track:5ChkMS8OtdzJeqyybCc9R5</td>\n",
       "      <td>0.92</td>\n",
       "      <td>0.654</td>\n",
       "      <td>11</td>\n",
       "      <td>-3.051</td>\n",
       "      <td>0</td>\n",
       "      <td>0.0401</td>\n",
       "      <td>0.0236</td>\n",
       "      <td>...</td>\n",
       "      <td>0.036</td>\n",
       "      <td>0.847</td>\n",
       "      <td>117.046</td>\n",
       "      <td>audio_features</td>\n",
       "      <td>5ChkMS8OtdzJeqyybCc9R5</td>\n",
       "      <td>spotify:track:5ChkMS8OtdzJeqyybCc9R5</td>\n",
       "      <td>https://api.spotify.com/v1/tracks/5ChkMS8OtdzJ...</td>\n",
       "      <td>https://api.spotify.com/v1/audio-analysis/5Chk...</td>\n",
       "      <td>293827</td>\n",
       "      <td>4</td>\n",
       "    </tr>\n",
       "    <tr>\n",
       "      <th>1</th>\n",
       "      <td>Michael Jackson</td>\n",
       "      <td>Beat It</td>\n",
       "      <td>spotify:track:1OOtq8tRnDM8kG2gqUPjAj</td>\n",
       "      <td>0.776</td>\n",
       "      <td>0.867</td>\n",
       "      <td>3</td>\n",
       "      <td>-3.704</td>\n",
       "      <td>0</td>\n",
       "      <td>0.0479</td>\n",
       "      <td>0.0495</td>\n",
       "      <td>...</td>\n",
       "      <td>0.197</td>\n",
       "      <td>0.918</td>\n",
       "      <td>138.827</td>\n",
       "      <td>audio_features</td>\n",
       "      <td>1OOtq8tRnDM8kG2gqUPjAj</td>\n",
       "      <td>spotify:track:1OOtq8tRnDM8kG2gqUPjAj</td>\n",
       "      <td>https://api.spotify.com/v1/tracks/1OOtq8tRnDM8...</td>\n",
       "      <td>https://api.spotify.com/v1/audio-analysis/1OOt...</td>\n",
       "      <td>258040</td>\n",
       "      <td>4</td>\n",
       "    </tr>\n",
       "    <tr>\n",
       "      <th>2</th>\n",
       "      <td>Michael Jackson</td>\n",
       "      <td>Chicago</td>\n",
       "      <td>spotify:track:5BKKy9fIJL5uM9fz1SnqyP</td>\n",
       "      <td>0.608</td>\n",
       "      <td>0.756</td>\n",
       "      <td>7</td>\n",
       "      <td>-2.675</td>\n",
       "      <td>0</td>\n",
       "      <td>0.176</td>\n",
       "      <td>0.0784</td>\n",
       "      <td>...</td>\n",
       "      <td>0.187</td>\n",
       "      <td>0.55</td>\n",
       "      <td>176.086</td>\n",
       "      <td>audio_features</td>\n",
       "      <td>5BKKy9fIJL5uM9fz1SnqyP</td>\n",
       "      <td>spotify:track:5BKKy9fIJL5uM9fz1SnqyP</td>\n",
       "      <td>https://api.spotify.com/v1/tracks/5BKKy9fIJL5u...</td>\n",
       "      <td>https://api.spotify.com/v1/audio-analysis/5BKK...</td>\n",
       "      <td>245507</td>\n",
       "      <td>4</td>\n",
       "    </tr>\n",
       "    <tr>\n",
       "      <th>3</th>\n",
       "      <td>Michael Jackson</td>\n",
       "      <td>Smooth Criminal - 2012 Remaster</td>\n",
       "      <td>spotify:track:2bCQHF9gdG5BNDVuEIEnNk</td>\n",
       "      <td>0.853</td>\n",
       "      <td>0.981</td>\n",
       "      <td>8</td>\n",
       "      <td>-3.947</td>\n",
       "      <td>1</td>\n",
       "      <td>0.0751</td>\n",
       "      <td>0.247</td>\n",
       "      <td>...</td>\n",
       "      <td>0.306</td>\n",
       "      <td>0.595</td>\n",
       "      <td>118.193</td>\n",
       "      <td>audio_features</td>\n",
       "      <td>2bCQHF9gdG5BNDVuEIEnNk</td>\n",
       "      <td>spotify:track:2bCQHF9gdG5BNDVuEIEnNk</td>\n",
       "      <td>https://api.spotify.com/v1/tracks/2bCQHF9gdG5B...</td>\n",
       "      <td>https://api.spotify.com/v1/audio-analysis/2bCQ...</td>\n",
       "      <td>257760</td>\n",
       "      <td>4</td>\n",
       "    </tr>\n",
       "    <tr>\n",
       "      <th>4</th>\n",
       "      <td>Michael Jackson</td>\n",
       "      <td>Don't Stop 'Til You Get Enough</td>\n",
       "      <td>spotify:track:46eu3SBuFCXWsPT39Yg3tJ</td>\n",
       "      <td>0.878</td>\n",
       "      <td>0.821</td>\n",
       "      <td>11</td>\n",
       "      <td>-9.875</td>\n",
       "      <td>1</td>\n",
       "      <td>0.089</td>\n",
       "      <td>0.126</td>\n",
       "      <td>...</td>\n",
       "      <td>0.183</td>\n",
       "      <td>0.947</td>\n",
       "      <td>118.881</td>\n",
       "      <td>audio_features</td>\n",
       "      <td>46eu3SBuFCXWsPT39Yg3tJ</td>\n",
       "      <td>spotify:track:46eu3SBuFCXWsPT39Yg3tJ</td>\n",
       "      <td>https://api.spotify.com/v1/tracks/46eu3SBuFCXW...</td>\n",
       "      <td>https://api.spotify.com/v1/audio-analysis/46eu...</td>\n",
       "      <td>365467</td>\n",
       "      <td>4</td>\n",
       "    </tr>\n",
       "  </tbody>\n",
       "</table>\n",
       "<p>5 rows × 21 columns</p>\n",
       "</div>"
      ],
      "text/plain": [
       "            Artist                            Track  \\\n",
       "0  Michael Jackson                      Billie Jean   \n",
       "1  Michael Jackson                          Beat It   \n",
       "2  Michael Jackson                          Chicago   \n",
       "3  Michael Jackson  Smooth Criminal - 2012 Remaster   \n",
       "4  Michael Jackson   Don't Stop 'Til You Get Enough   \n",
       "\n",
       "                               Track ID danceability energy key loudness mode  \\\n",
       "0  spotify:track:5ChkMS8OtdzJeqyybCc9R5         0.92  0.654  11   -3.051    0   \n",
       "1  spotify:track:1OOtq8tRnDM8kG2gqUPjAj        0.776  0.867   3   -3.704    0   \n",
       "2  spotify:track:5BKKy9fIJL5uM9fz1SnqyP        0.608  0.756   7   -2.675    0   \n",
       "3  spotify:track:2bCQHF9gdG5BNDVuEIEnNk        0.853  0.981   8   -3.947    1   \n",
       "4  spotify:track:46eu3SBuFCXWsPT39Yg3tJ        0.878  0.821  11   -9.875    1   \n",
       "\n",
       "  speechiness acousticness  ... liveness valence    tempo            type  \\\n",
       "0      0.0401       0.0236  ...    0.036   0.847  117.046  audio_features   \n",
       "1      0.0479       0.0495  ...    0.197   0.918  138.827  audio_features   \n",
       "2       0.176       0.0784  ...    0.187    0.55  176.086  audio_features   \n",
       "3      0.0751        0.247  ...    0.306   0.595  118.193  audio_features   \n",
       "4       0.089        0.126  ...    0.183   0.947  118.881  audio_features   \n",
       "\n",
       "                       id                                   uri  \\\n",
       "0  5ChkMS8OtdzJeqyybCc9R5  spotify:track:5ChkMS8OtdzJeqyybCc9R5   \n",
       "1  1OOtq8tRnDM8kG2gqUPjAj  spotify:track:1OOtq8tRnDM8kG2gqUPjAj   \n",
       "2  5BKKy9fIJL5uM9fz1SnqyP  spotify:track:5BKKy9fIJL5uM9fz1SnqyP   \n",
       "3  2bCQHF9gdG5BNDVuEIEnNk  spotify:track:2bCQHF9gdG5BNDVuEIEnNk   \n",
       "4  46eu3SBuFCXWsPT39Yg3tJ  spotify:track:46eu3SBuFCXWsPT39Yg3tJ   \n",
       "\n",
       "                                          track_href  \\\n",
       "0  https://api.spotify.com/v1/tracks/5ChkMS8OtdzJ...   \n",
       "1  https://api.spotify.com/v1/tracks/1OOtq8tRnDM8...   \n",
       "2  https://api.spotify.com/v1/tracks/5BKKy9fIJL5u...   \n",
       "3  https://api.spotify.com/v1/tracks/2bCQHF9gdG5B...   \n",
       "4  https://api.spotify.com/v1/tracks/46eu3SBuFCXW...   \n",
       "\n",
       "                                        analysis_url duration_ms  \\\n",
       "0  https://api.spotify.com/v1/audio-analysis/5Chk...      293827   \n",
       "1  https://api.spotify.com/v1/audio-analysis/1OOt...      258040   \n",
       "2  https://api.spotify.com/v1/audio-analysis/5BKK...      245507   \n",
       "3  https://api.spotify.com/v1/audio-analysis/2bCQ...      257760   \n",
       "4  https://api.spotify.com/v1/audio-analysis/46eu...      365467   \n",
       "\n",
       "  time_signature  \n",
       "0              4  \n",
       "1              4  \n",
       "2              4  \n",
       "3              4  \n",
       "4              4  \n",
       "\n",
       "[5 rows x 21 columns]"
      ]
     },
     "execution_count": 62,
     "metadata": {},
     "output_type": "execute_result"
    }
   ],
   "source": [
    "track_feat_df = pd.DataFrame(track_features)\n",
    "track_feat_df.head()"
   ]
  },
  {
   "cell_type": "code",
   "execution_count": 63,
   "metadata": {},
   "outputs": [
    {
     "data": {
      "text/html": [
       "<div>\n",
       "<style scoped>\n",
       "    .dataframe tbody tr th:only-of-type {\n",
       "        vertical-align: middle;\n",
       "    }\n",
       "\n",
       "    .dataframe tbody tr th {\n",
       "        vertical-align: top;\n",
       "    }\n",
       "\n",
       "    .dataframe thead th {\n",
       "        text-align: right;\n",
       "    }\n",
       "</style>\n",
       "<table border=\"1\" class=\"dataframe\">\n",
       "  <thead>\n",
       "    <tr style=\"text-align: right;\">\n",
       "      <th></th>\n",
       "      <th>Artist</th>\n",
       "      <th>Track</th>\n",
       "      <th>Track ID</th>\n",
       "      <th>danceability</th>\n",
       "      <th>energy</th>\n",
       "      <th>key</th>\n",
       "      <th>loudness</th>\n",
       "      <th>mode</th>\n",
       "      <th>speechiness</th>\n",
       "      <th>acousticness</th>\n",
       "      <th>...</th>\n",
       "      <th>type</th>\n",
       "      <th>id</th>\n",
       "      <th>uri</th>\n",
       "      <th>track_href</th>\n",
       "      <th>analysis_url</th>\n",
       "      <th>duration_ms</th>\n",
       "      <th>time_signature</th>\n",
       "      <th>Genre</th>\n",
       "      <th>Genre ID</th>\n",
       "      <th>Spotify ID</th>\n",
       "    </tr>\n",
       "  </thead>\n",
       "  <tbody>\n",
       "    <tr>\n",
       "      <th>0</th>\n",
       "      <td>Michael Jackson</td>\n",
       "      <td>Billie Jean</td>\n",
       "      <td>spotify:track:5ChkMS8OtdzJeqyybCc9R5</td>\n",
       "      <td>0.92</td>\n",
       "      <td>0.654</td>\n",
       "      <td>11</td>\n",
       "      <td>-3.051</td>\n",
       "      <td>0</td>\n",
       "      <td>0.0401</td>\n",
       "      <td>0.0236</td>\n",
       "      <td>...</td>\n",
       "      <td>audio_features</td>\n",
       "      <td>5ChkMS8OtdzJeqyybCc9R5</td>\n",
       "      <td>spotify:track:5ChkMS8OtdzJeqyybCc9R5</td>\n",
       "      <td>https://api.spotify.com/v1/tracks/5ChkMS8OtdzJ...</td>\n",
       "      <td>https://api.spotify.com/v1/audio-analysis/5Chk...</td>\n",
       "      <td>293827</td>\n",
       "      <td>4</td>\n",
       "      <td>Pop</td>\n",
       "      <td>g.115</td>\n",
       "      <td>3fMbdgg4jU18AjLCKBhRSm</td>\n",
       "    </tr>\n",
       "    <tr>\n",
       "      <th>1</th>\n",
       "      <td>Michael Jackson</td>\n",
       "      <td>Beat It</td>\n",
       "      <td>spotify:track:1OOtq8tRnDM8kG2gqUPjAj</td>\n",
       "      <td>0.776</td>\n",
       "      <td>0.867</td>\n",
       "      <td>3</td>\n",
       "      <td>-3.704</td>\n",
       "      <td>0</td>\n",
       "      <td>0.0479</td>\n",
       "      <td>0.0495</td>\n",
       "      <td>...</td>\n",
       "      <td>audio_features</td>\n",
       "      <td>1OOtq8tRnDM8kG2gqUPjAj</td>\n",
       "      <td>spotify:track:1OOtq8tRnDM8kG2gqUPjAj</td>\n",
       "      <td>https://api.spotify.com/v1/tracks/1OOtq8tRnDM8...</td>\n",
       "      <td>https://api.spotify.com/v1/audio-analysis/1OOt...</td>\n",
       "      <td>258040</td>\n",
       "      <td>4</td>\n",
       "      <td>Pop</td>\n",
       "      <td>g.115</td>\n",
       "      <td>3fMbdgg4jU18AjLCKBhRSm</td>\n",
       "    </tr>\n",
       "    <tr>\n",
       "      <th>2</th>\n",
       "      <td>Michael Jackson</td>\n",
       "      <td>Chicago</td>\n",
       "      <td>spotify:track:5BKKy9fIJL5uM9fz1SnqyP</td>\n",
       "      <td>0.608</td>\n",
       "      <td>0.756</td>\n",
       "      <td>7</td>\n",
       "      <td>-2.675</td>\n",
       "      <td>0</td>\n",
       "      <td>0.176</td>\n",
       "      <td>0.0784</td>\n",
       "      <td>...</td>\n",
       "      <td>audio_features</td>\n",
       "      <td>5BKKy9fIJL5uM9fz1SnqyP</td>\n",
       "      <td>spotify:track:5BKKy9fIJL5uM9fz1SnqyP</td>\n",
       "      <td>https://api.spotify.com/v1/tracks/5BKKy9fIJL5u...</td>\n",
       "      <td>https://api.spotify.com/v1/audio-analysis/5BKK...</td>\n",
       "      <td>245507</td>\n",
       "      <td>4</td>\n",
       "      <td>Pop</td>\n",
       "      <td>g.115</td>\n",
       "      <td>3fMbdgg4jU18AjLCKBhRSm</td>\n",
       "    </tr>\n",
       "    <tr>\n",
       "      <th>3</th>\n",
       "      <td>Michael Jackson</td>\n",
       "      <td>Smooth Criminal - 2012 Remaster</td>\n",
       "      <td>spotify:track:2bCQHF9gdG5BNDVuEIEnNk</td>\n",
       "      <td>0.853</td>\n",
       "      <td>0.981</td>\n",
       "      <td>8</td>\n",
       "      <td>-3.947</td>\n",
       "      <td>1</td>\n",
       "      <td>0.0751</td>\n",
       "      <td>0.247</td>\n",
       "      <td>...</td>\n",
       "      <td>audio_features</td>\n",
       "      <td>2bCQHF9gdG5BNDVuEIEnNk</td>\n",
       "      <td>spotify:track:2bCQHF9gdG5BNDVuEIEnNk</td>\n",
       "      <td>https://api.spotify.com/v1/tracks/2bCQHF9gdG5B...</td>\n",
       "      <td>https://api.spotify.com/v1/audio-analysis/2bCQ...</td>\n",
       "      <td>257760</td>\n",
       "      <td>4</td>\n",
       "      <td>Pop</td>\n",
       "      <td>g.115</td>\n",
       "      <td>3fMbdgg4jU18AjLCKBhRSm</td>\n",
       "    </tr>\n",
       "    <tr>\n",
       "      <th>4</th>\n",
       "      <td>Michael Jackson</td>\n",
       "      <td>Don't Stop 'Til You Get Enough</td>\n",
       "      <td>spotify:track:46eu3SBuFCXWsPT39Yg3tJ</td>\n",
       "      <td>0.878</td>\n",
       "      <td>0.821</td>\n",
       "      <td>11</td>\n",
       "      <td>-9.875</td>\n",
       "      <td>1</td>\n",
       "      <td>0.089</td>\n",
       "      <td>0.126</td>\n",
       "      <td>...</td>\n",
       "      <td>audio_features</td>\n",
       "      <td>46eu3SBuFCXWsPT39Yg3tJ</td>\n",
       "      <td>spotify:track:46eu3SBuFCXWsPT39Yg3tJ</td>\n",
       "      <td>https://api.spotify.com/v1/tracks/46eu3SBuFCXW...</td>\n",
       "      <td>https://api.spotify.com/v1/audio-analysis/46eu...</td>\n",
       "      <td>365467</td>\n",
       "      <td>4</td>\n",
       "      <td>Pop</td>\n",
       "      <td>g.115</td>\n",
       "      <td>3fMbdgg4jU18AjLCKBhRSm</td>\n",
       "    </tr>\n",
       "  </tbody>\n",
       "</table>\n",
       "<p>5 rows × 24 columns</p>\n",
       "</div>"
      ],
      "text/plain": [
       "            Artist                            Track  \\\n",
       "0  Michael Jackson                      Billie Jean   \n",
       "1  Michael Jackson                          Beat It   \n",
       "2  Michael Jackson                          Chicago   \n",
       "3  Michael Jackson  Smooth Criminal - 2012 Remaster   \n",
       "4  Michael Jackson   Don't Stop 'Til You Get Enough   \n",
       "\n",
       "                               Track ID danceability energy key loudness mode  \\\n",
       "0  spotify:track:5ChkMS8OtdzJeqyybCc9R5         0.92  0.654  11   -3.051    0   \n",
       "1  spotify:track:1OOtq8tRnDM8kG2gqUPjAj        0.776  0.867   3   -3.704    0   \n",
       "2  spotify:track:5BKKy9fIJL5uM9fz1SnqyP        0.608  0.756   7   -2.675    0   \n",
       "3  spotify:track:2bCQHF9gdG5BNDVuEIEnNk        0.853  0.981   8   -3.947    1   \n",
       "4  spotify:track:46eu3SBuFCXWsPT39Yg3tJ        0.878  0.821  11   -9.875    1   \n",
       "\n",
       "  speechiness acousticness  ...            type                      id  \\\n",
       "0      0.0401       0.0236  ...  audio_features  5ChkMS8OtdzJeqyybCc9R5   \n",
       "1      0.0479       0.0495  ...  audio_features  1OOtq8tRnDM8kG2gqUPjAj   \n",
       "2       0.176       0.0784  ...  audio_features  5BKKy9fIJL5uM9fz1SnqyP   \n",
       "3      0.0751        0.247  ...  audio_features  2bCQHF9gdG5BNDVuEIEnNk   \n",
       "4       0.089        0.126  ...  audio_features  46eu3SBuFCXWsPT39Yg3tJ   \n",
       "\n",
       "                                    uri  \\\n",
       "0  spotify:track:5ChkMS8OtdzJeqyybCc9R5   \n",
       "1  spotify:track:1OOtq8tRnDM8kG2gqUPjAj   \n",
       "2  spotify:track:5BKKy9fIJL5uM9fz1SnqyP   \n",
       "3  spotify:track:2bCQHF9gdG5BNDVuEIEnNk   \n",
       "4  spotify:track:46eu3SBuFCXWsPT39Yg3tJ   \n",
       "\n",
       "                                          track_href  \\\n",
       "0  https://api.spotify.com/v1/tracks/5ChkMS8OtdzJ...   \n",
       "1  https://api.spotify.com/v1/tracks/1OOtq8tRnDM8...   \n",
       "2  https://api.spotify.com/v1/tracks/5BKKy9fIJL5u...   \n",
       "3  https://api.spotify.com/v1/tracks/2bCQHF9gdG5B...   \n",
       "4  https://api.spotify.com/v1/tracks/46eu3SBuFCXW...   \n",
       "\n",
       "                                        analysis_url duration_ms  \\\n",
       "0  https://api.spotify.com/v1/audio-analysis/5Chk...      293827   \n",
       "1  https://api.spotify.com/v1/audio-analysis/1OOt...      258040   \n",
       "2  https://api.spotify.com/v1/audio-analysis/5BKK...      245507   \n",
       "3  https://api.spotify.com/v1/audio-analysis/2bCQ...      257760   \n",
       "4  https://api.spotify.com/v1/audio-analysis/46eu...      365467   \n",
       "\n",
       "  time_signature Genre Genre ID              Spotify ID  \n",
       "0              4   Pop    g.115  3fMbdgg4jU18AjLCKBhRSm  \n",
       "1              4   Pop    g.115  3fMbdgg4jU18AjLCKBhRSm  \n",
       "2              4   Pop    g.115  3fMbdgg4jU18AjLCKBhRSm  \n",
       "3              4   Pop    g.115  3fMbdgg4jU18AjLCKBhRSm  \n",
       "4              4   Pop    g.115  3fMbdgg4jU18AjLCKBhRSm  \n",
       "\n",
       "[5 rows x 24 columns]"
      ]
     },
     "execution_count": 63,
     "metadata": {},
     "output_type": "execute_result"
    }
   ],
   "source": [
    "merged_genre_tracks = pd.merge(track_feat_df,genre_artist_df,how='left', on='Artist')\n",
    "merged_genre_tracks.head()"
   ]
  },
  {
   "cell_type": "code",
   "execution_count": 64,
   "metadata": {},
   "outputs": [],
   "source": [
    "merged_genre_tracks.to_csv('../Music-Research-Project-1/Resources/top_tracks_genre.csv')"
   ]
  }
 ],
 "metadata": {
  "kernelspec": {
   "display_name": "Python 3.9.12 ('base')",
   "language": "python",
   "name": "python3"
  },
  "language_info": {
   "codemirror_mode": {
    "name": "ipython",
    "version": 3
   },
   "file_extension": ".py",
   "mimetype": "text/x-python",
   "name": "python",
   "nbconvert_exporter": "python",
   "pygments_lexer": "ipython3",
   "version": "3.9.12"
  },
  "orig_nbformat": 4,
  "vscode": {
   "interpreter": {
    "hash": "545ca857da9e94b3c655ab355bd27153c36785e8b97b5a7c0076172ececba3e4"
   }
  }
 },
 "nbformat": 4,
 "nbformat_minor": 2
}
