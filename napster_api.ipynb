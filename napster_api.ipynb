{
 "cells": [
  {
   "cell_type": "code",
   "execution_count": 10,
   "metadata": {},
   "outputs": [],
   "source": [
    "import pandas as pd\n",
    "import json\n",
    "import requests\n",
    "from config import napster_key, napster_secret\n",
    "from pprint import pprint"
   ]
  },
  {
   "cell_type": "code",
   "execution_count": 11,
   "metadata": {},
   "outputs": [],
   "source": [
    "napster_base = 'https://api.napster.com/v2.2'\n",
    "header = {'apikey': napster_key}"
   ]
  },
  {
   "cell_type": "code",
   "execution_count": 12,
   "metadata": {},
   "outputs": [],
   "source": [
    "genres_english = '/genres?lang=en-EN'\n",
    "genre_url = f'{napster_base}{genres_english}'\n",
    "response = requests.get(genre_url, headers=header).json()"
   ]
  },
  {
   "cell_type": "code",
   "execution_count": 14,
   "metadata": {},
   "outputs": [
    {
     "name": "stdout",
     "output_type": "stream",
     "text": [
      "['Pop', 'Rock', 'Alternative', 'Hip-Hop/Rap', 'Christmas', 'R&B/Soul', 'Country', 'Jazz', 'Dance/Electronica', 'Latin', 'World', 'Reggae', 'Classical', 'Oldies', 'New Age', 'Christian/Gospel', 'Blues', 'Folk', 'Vocal/Easy Listening', 'Soundtracks', 'Children', 'Comedy/Spoken Word', 'Metal']\n",
      "['g.115', 'g.5', 'g.33', 'g.146', 'g.120', 'g.194', 'g.407', 'g.299', 'g.71', 'g.510', 'g.488', 'g.383', 'g.21', 'g.4', 'g.453', 'g.75', 'g.438', 'g.446', 'g.69', 'g.246', 'g.470', 'g.156', 'g.394']\n"
     ]
    }
   ],
   "source": [
    "genre_list = [] \n",
    "id_list = []\n",
    "\n",
    "for x in range(0,23):\n",
    "    genre = response['genres'][x]['name']\n",
    "    genre_list.append(genre)\n",
    "    id = response['genres'][x]['id']\n",
    "    id_list.append(id)\n",
    "\n",
    "print(genre_list)\n",
    "print(id_list)"
   ]
  },
  {
   "cell_type": "markdown",
   "metadata": {},
   "source": [
    "### Top Artists By Genre\n",
    "The idea is to take a list of genre codes and compile the top n number of artist names  \n",
    "Then the compiled list of artists and their genres can be used to generate URIs in Spotify and get tracks w/ Metadata"
   ]
  },
  {
   "cell_type": "code",
   "execution_count": 21,
   "metadata": {},
   "outputs": [
    {
     "data": {
      "text/html": [
       "<div>\n",
       "<style scoped>\n",
       "    .dataframe tbody tr th:only-of-type {\n",
       "        vertical-align: middle;\n",
       "    }\n",
       "\n",
       "    .dataframe tbody tr th {\n",
       "        vertical-align: top;\n",
       "    }\n",
       "\n",
       "    .dataframe thead th {\n",
       "        text-align: right;\n",
       "    }\n",
       "</style>\n",
       "<table border=\"1\" class=\"dataframe\">\n",
       "  <thead>\n",
       "    <tr style=\"text-align: right;\">\n",
       "      <th></th>\n",
       "      <th>Genre</th>\n",
       "      <th>Genre ID</th>\n",
       "      <th>Artist</th>\n",
       "    </tr>\n",
       "  </thead>\n",
       "  <tbody>\n",
       "  </tbody>\n",
       "</table>\n",
       "</div>"
      ],
      "text/plain": [
       "Empty DataFrame\n",
       "Columns: [Genre, Genre ID, Artist]\n",
       "Index: []"
      ]
     },
     "execution_count": 21,
     "metadata": {},
     "output_type": "execute_result"
    }
   ],
   "source": [
    "genre_artist_df = pd.DataFrame(columns = ['Genre', 'Genre ID', 'Artist'])\n",
    "genre_artist_df.head()"
   ]
  },
  {
   "cell_type": "code",
   "execution_count": null,
   "metadata": {},
   "outputs": [],
   "source": [
    "for x in range(0,23):\n",
    "    id = id_list[x]\n",
    "    genre = genre_list[x]\n",
    "    top_artists = f'/genres/{id}/artists/top'\n",
    "    limit = '?limit=20'\n",
    "    timeframe= '&range=year'\n",
    "    url = f'{napster_base}{top_artists}{limit}{timeframe}'\n",
    "    response = requests.get(url, headers=header).json()\n",
    "\n",
    "    for y in range(0,20):\n",
    "        artist = response['artists'][y]['name']\n",
    "        genre_artist_df = genre_artist_df.append({'Genre': genre, 'Genre ID':id, 'Artist':artist}, ignore_index=True)\n",
    "\n",
    "genre_artist_df.head()"
   ]
  },
  {
   "cell_type": "code",
   "execution_count": 23,
   "metadata": {},
   "outputs": [
    {
     "data": {
      "text/plain": [
       "460"
      ]
     },
     "execution_count": 23,
     "metadata": {},
     "output_type": "execute_result"
    }
   ],
   "source": [
    "len(genre_artist_df)"
   ]
  },
  {
   "cell_type": "code",
   "execution_count": 24,
   "metadata": {},
   "outputs": [],
   "source": [
    "genre_artist_df.to_csv(\"../Music-Research-Project-1/Resources/genre_artist_list.csv\",index=False,header=True)"
   ]
  }
 ],
 "metadata": {
  "kernelspec": {
   "display_name": "Python 3.9.12 ('base')",
   "language": "python",
   "name": "python3"
  },
  "language_info": {
   "codemirror_mode": {
    "name": "ipython",
    "version": 3
   },
   "file_extension": ".py",
   "mimetype": "text/x-python",
   "name": "python",
   "nbconvert_exporter": "python",
   "pygments_lexer": "ipython3",
   "version": "3.9.12"
  },
  "orig_nbformat": 4,
  "vscode": {
   "interpreter": {
    "hash": "545ca857da9e94b3c655ab355bd27153c36785e8b97b5a7c0076172ececba3e4"
   }
  }
 },
 "nbformat": 4,
 "nbformat_minor": 2
}
