{
 "cells": [
  {
   "cell_type": "code",
   "execution_count": 1,
   "metadata": {},
   "outputs": [],
   "source": [
    "import pandas as pd\n",
    "import json\n",
    "import requests\n",
    "from config import napster_key, napster_secret\n",
    "from pprint import pprint\n"
   ]
  },
  {
   "cell_type": "code",
   "execution_count": 2,
   "metadata": {},
   "outputs": [],
   "source": [
    "napster_base = 'https://api.napster.com/v2.2'\n",
    "header = {'apikey': napster_key}"
   ]
  },
  {
   "cell_type": "code",
   "execution_count": 4,
   "metadata": {},
   "outputs": [],
   "source": [
    "top_5_artists = '/artists/top?limit=5'"
   ]
  },
  {
   "cell_type": "code",
   "execution_count": 13,
   "metadata": {},
   "outputs": [],
   "source": [
    "top_url = f'{napster_base}{top_5_artists}'\n",
    "response = requests.get(top_url, headers=header).json()"
   ]
  },
  {
   "cell_type": "code",
   "execution_count": null,
   "metadata": {},
   "outputs": [],
   "source": [
    "genres_english = '/genres?lang=en-EN'\n",
    "genre_url = f'{napster_base}{genres_english}'\n",
    "response = requests.get(genre_url, headers=header).json()"
   ]
  },
  {
   "cell_type": "code",
   "execution_count": null,
   "metadata": {},
   "outputs": [],
   "source": [
    "## Need to develop the code to extract genres and their main code g.### from the response json"
   ]
  },
  {
   "cell_type": "markdown",
   "metadata": {},
   "source": [
    "### Top Artists By Genre\n",
    "The idea is to take a list of genre codes and compile the top n number of artist names  \n",
    "Then the compiled list of artists and their genres can be used to generate URIs in Spotify and get tracks w/ Metadata"
   ]
  },
  {
   "cell_type": "code",
   "execution_count": 3,
   "metadata": {},
   "outputs": [],
   "source": [
    "top_rock_artists = '/genres/g.5/artists/top'\n",
    "limit = '?limit=10'\n",
    "timeframe= '&range=year'\n",
    "top_rock_url = f'{napster_base}{top_rock_artists}{limit}{timeframe}'\n",
    "response = requests.get(top_rock_url, headers=header).json()"
   ]
  },
  {
   "cell_type": "code",
   "execution_count": 5,
   "metadata": {},
   "outputs": [
    {
     "name": "stdout",
     "output_type": "stream",
     "text": [
      "Queen\n",
      "Fleetwood Mac\n",
      "The Beatles\n",
      "Kate Bush\n",
      "Led Zeppelin\n",
      "Tom Petty\n",
      "Aerosmith\n",
      "The Rolling Stones\n",
      "Eagles\n",
      "AC/DC\n"
     ]
    }
   ],
   "source": [
    "for x in range(0,10):\n",
    "    print(response['artists'][x]['name'])"
   ]
  },
  {
   "cell_type": "code",
   "execution_count": null,
   "metadata": {},
   "outputs": [],
   "source": [
    "from pprint import pprint\n",
    "pprint(response)"
   ]
  }
 ],
 "metadata": {
  "kernelspec": {
   "display_name": "Python 3.9.12 ('base')",
   "language": "python",
   "name": "python3"
  },
  "language_info": {
   "codemirror_mode": {
    "name": "ipython",
    "version": 3
   },
   "file_extension": ".py",
   "mimetype": "text/x-python",
   "name": "python",
   "nbconvert_exporter": "python",
   "pygments_lexer": "ipython3",
   "version": "3.9.12"
  },
  "orig_nbformat": 4,
  "vscode": {
   "interpreter": {
    "hash": "545ca857da9e94b3c655ab355bd27153c36785e8b97b5a7c0076172ececba3e4"
   }
  }
 },
 "nbformat": 4,
 "nbformat_minor": 2
}
