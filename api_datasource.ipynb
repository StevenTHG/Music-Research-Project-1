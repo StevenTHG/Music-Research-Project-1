{
 "cells": [
  {
   "cell_type": "code",
   "execution_count": 7,
   "metadata": {},
   "outputs": [],
   "source": [
    "import warnings\n",
    "warnings.filterwarnings('ignore')"
   ]
  },
  {
   "cell_type": "code",
   "execution_count": 1,
   "metadata": {},
   "outputs": [],
   "source": [
    "#Import Dependencies\n",
    "import pandas as pd\n",
    "import requests\n",
    "from config import napster_key, CLIENT_ID, CLIENT_SECRET"
   ]
  },
  {
   "cell_type": "code",
   "execution_count": 2,
   "metadata": {},
   "outputs": [],
   "source": [
    "#Napster API Base\n",
    "napster_base = 'https://api.napster.com/v2.2'\n",
    "header = {'apikey': napster_key}"
   ]
  },
  {
   "cell_type": "code",
   "execution_count": 3,
   "metadata": {},
   "outputs": [],
   "source": [
    "#Retrieve Genres From Napster\n",
    "genres_english = '/genres?lang=en-EN'\n",
    "genre_url = f'{napster_base}{genres_english}'\n",
    "response = requests.get(genre_url, headers=header).json()"
   ]
  },
  {
   "cell_type": "code",
   "execution_count": 4,
   "metadata": {},
   "outputs": [],
   "source": [
    "#Create Lists to Hold Genres and Their Napster IDs\n",
    "genre_list = [] \n",
    "id_list = []\n",
    "\n",
    "#Loop Through API Response to Add Details to Lists\n",
    "for x in range(0,23):\n",
    "    genre = response['genres'][x]['name']\n",
    "    genre_list.append(genre)\n",
    "    id = response['genres'][x]['id']\n",
    "    id_list.append(id)"
   ]
  },
  {
   "cell_type": "code",
   "execution_count": 10,
   "metadata": {},
   "outputs": [],
   "source": [
    "#Create an Empty DataFrame for Genre and Artist Info\n",
    "genre_artist_df = pd.DataFrame(columns = ['Genre', 'Genre ID', 'Artist'])"
   ]
  },
  {
   "cell_type": "code",
   "execution_count": 12,
   "metadata": {},
   "outputs": [
    {
     "data": {
      "text/plain": [
       "460"
      ]
     },
     "execution_count": 12,
     "metadata": {},
     "output_type": "execute_result"
    }
   ],
   "source": [
    "#Request the Top 20 Artists for each Genre\n",
    "for x in range(0,23):\n",
    "    id = id_list[x]\n",
    "    genre = genre_list[x]\n",
    "    top_artists = f'/genres/{id}/artists/top'\n",
    "    limit = '?limit=20'\n",
    "    timeframe= '&range=year'\n",
    "    url = f'{napster_base}{top_artists}{limit}{timeframe}'\n",
    "    response = requests.get(url, headers=header).json()\n",
    "\n",
    "    #Create a DataFrame of Genres and Artist from the Responses\n",
    "    for y in range(0,20):\n",
    "        artist = response['artists'][y]['name']\n",
    "        genre_artist_df = genre_artist_df.append({'Genre': genre, 'Genre ID':id, 'Artist':artist}, ignore_index=True)\n",
    "\n",
    "#Check the Length of the Completed DataFrame\n",
    "len(genre_artist_df)"
   ]
  },
  {
   "cell_type": "code",
   "execution_count": 13,
   "metadata": {},
   "outputs": [
    {
     "data": {
      "text/html": [
       "<div>\n",
       "<style scoped>\n",
       "    .dataframe tbody tr th:only-of-type {\n",
       "        vertical-align: middle;\n",
       "    }\n",
       "\n",
       "    .dataframe tbody tr th {\n",
       "        vertical-align: top;\n",
       "    }\n",
       "\n",
       "    .dataframe thead th {\n",
       "        text-align: right;\n",
       "    }\n",
       "</style>\n",
       "<table border=\"1\" class=\"dataframe\">\n",
       "  <thead>\n",
       "    <tr style=\"text-align: right;\">\n",
       "      <th></th>\n",
       "      <th>Genre</th>\n",
       "      <th>Genre ID</th>\n",
       "      <th>Artist</th>\n",
       "    </tr>\n",
       "  </thead>\n",
       "  <tbody>\n",
       "    <tr>\n",
       "      <th>0</th>\n",
       "      <td>Pop</td>\n",
       "      <td>g.115</td>\n",
       "      <td>Michael Jackson</td>\n",
       "    </tr>\n",
       "  </tbody>\n",
       "</table>\n",
       "</div>"
      ],
      "text/plain": [
       "  Genre Genre ID           Artist\n",
       "0   Pop    g.115  Michael Jackson"
      ]
     },
     "execution_count": 13,
     "metadata": {},
     "output_type": "execute_result"
    }
   ],
   "source": [
    "#Preview the DataFrame\n",
    "genre_artist_df.head(1)"
   ]
  },
  {
   "cell_type": "code",
   "execution_count": 14,
   "metadata": {},
   "outputs": [],
   "source": [
    "#Spotify API \n",
    "AUTH_URL = 'https://accounts.spotify.com/api/token'\n",
    "\n",
    "# POST\n",
    "auth_response = requests.post(AUTH_URL, {\n",
    "    'grant_type': 'client_credentials',\n",
    "    'client_id': CLIENT_ID,\n",
    "    'client_secret': CLIENT_SECRET,\n",
    "})\n",
    "\n",
    "# convert the response to JSON\n",
    "auth_response_data = auth_response.json()\n",
    "\n",
    "# save the access token\n",
    "access_token = auth_response_data['access_token']\n",
    "headers = {\n",
    "    'Authorization': 'Bearer {token}'.format(token=access_token)\n",
    "}"
   ]
  },
  {
   "cell_type": "code",
   "execution_count": 15,
   "metadata": {},
   "outputs": [],
   "source": [
    "# base URL of all Spotify API endpoints\n",
    "Search_URL = 'https://api.spotify.com/v1/search'"
   ]
  },
  {
   "cell_type": "code",
   "execution_count": 16,
   "metadata": {},
   "outputs": [
    {
     "name": "stdout",
     "output_type": "stream",
     "text": [
      "6XyY86QOPPrYVGvF9ch6wz\n"
     ]
    }
   ],
   "source": [
    "#Test Request to Locate Spotify URI in Response\n",
    "artist_name= \"Linkin Park\"\n",
    "\n",
    "artist_info = requests.get(\n",
    "Search_URL,\n",
    "headers=headers,\n",
    "params={'q': artist_name, 'type': 'artist'}).json()\n",
    "\n",
    "uri = artist_info['artists']['items'][0]['id']\n",
    "print(uri)"
   ]
  },
  {
   "cell_type": "code",
   "execution_count": 17,
   "metadata": {},
   "outputs": [
    {
     "name": "stdout",
     "output_type": "stream",
     "text": [
      "Diplo feat. Lil Pump, Juicy J, Famous Dex & French Montana not found on Spotify!\n"
     ]
    },
    {
     "data": {
      "text/plain": [
       "460"
      ]
     },
     "execution_count": 17,
     "metadata": {},
     "output_type": "execute_result"
    }
   ],
   "source": [
    "#Create a List to hold Spotify Artist IDs\n",
    "id = []\n",
    "\n",
    "for artist in genre_artist_df['Artist']:\n",
    "    try:\n",
    "        artist_info = requests.get(\n",
    "        Search_URL,\n",
    "        headers=headers,\n",
    "        params={'q': artist, 'type': 'artist'}).json()\n",
    "\n",
    "        uri = artist_info['artists']['items'][0]['id']\n",
    "        id.append(uri)\n",
    "    except:\n",
    "        print(f'{artist} not found on Spotify!')\n",
    "        id.append('NaN')\n",
    "\n",
    "#Check that Length of the ID List\n",
    "len(id)"
   ]
  },
  {
   "cell_type": "code",
   "execution_count": 18,
   "metadata": {},
   "outputs": [
    {
     "data": {
      "text/html": [
       "<div>\n",
       "<style scoped>\n",
       "    .dataframe tbody tr th:only-of-type {\n",
       "        vertical-align: middle;\n",
       "    }\n",
       "\n",
       "    .dataframe tbody tr th {\n",
       "        vertical-align: top;\n",
       "    }\n",
       "\n",
       "    .dataframe thead th {\n",
       "        text-align: right;\n",
       "    }\n",
       "</style>\n",
       "<table border=\"1\" class=\"dataframe\">\n",
       "  <thead>\n",
       "    <tr style=\"text-align: right;\">\n",
       "      <th></th>\n",
       "      <th>Genre</th>\n",
       "      <th>Genre ID</th>\n",
       "      <th>Artist</th>\n",
       "      <th>Spotify ID</th>\n",
       "    </tr>\n",
       "  </thead>\n",
       "  <tbody>\n",
       "    <tr>\n",
       "      <th>0</th>\n",
       "      <td>Pop</td>\n",
       "      <td>g.115</td>\n",
       "      <td>Michael Jackson</td>\n",
       "      <td>3fMbdgg4jU18AjLCKBhRSm</td>\n",
       "    </tr>\n",
       "  </tbody>\n",
       "</table>\n",
       "</div>"
      ],
      "text/plain": [
       "  Genre Genre ID           Artist              Spotify ID\n",
       "0   Pop    g.115  Michael Jackson  3fMbdgg4jU18AjLCKBhRSm"
      ]
     },
     "execution_count": 18,
     "metadata": {},
     "output_type": "execute_result"
    }
   ],
   "source": [
    "#Create a New Column for the Artist Spotify ID\n",
    "genre_artist_df['Spotify ID'] = id\n",
    "genre_artist_df.head(1)"
   ]
  },
  {
   "cell_type": "code",
   "execution_count": 19,
   "metadata": {},
   "outputs": [],
   "source": [
    "#Import the Spotipy Library\n",
    "import spotipy\n",
    "from spotipy.oauth2 import SpotifyOAuth\n",
    "\n",
    "sp = spotipy.Spotify(auth_manager=SpotifyOAuth(client_id=CLIENT_ID,\n",
    "                                               client_secret=CLIENT_SECRET,\n",
    "                                               redirect_uri='http://localhost:1234',\n",
    "                                               scope=\"user-library-read\"))"
   ]
  },
  {
   "cell_type": "code",
   "execution_count": 20,
   "metadata": {},
   "outputs": [
    {
     "name": "stdout",
     "output_type": "stream",
     "text": [
      "Michael Jackson\n"
     ]
    }
   ],
   "source": [
    "#Test Spotify ID to Locate Track information using Spotipy\n",
    "mj_id = 'spotify:artist:3fMbdgg4jU18AjLCKBhRSm'\n",
    "tracks = sp.artist_top_tracks(mj_id,country='US')\n",
    "print(tracks['tracks'][0]['album']['artists'][0]['name'])"
   ]
  },
  {
   "cell_type": "code",
   "execution_count": 22,
   "metadata": {},
   "outputs": [
    {
     "name": "stdout",
     "output_type": "stream",
     "text": [
      "track    : Billie Jean| uri: spotify:track:7J1uxwnxfQLu4APicE5Rnj\n",
      "track    : Beat It| uri: spotify:track:3BovdzfaX4jb5KFQwoPfAw\n",
      "track    : Chicago| uri: spotify:track:5BKKy9fIJL5uM9fz1SnqyP\n",
      "track    : Smooth Criminal - 2012 Remaster| uri: spotify:track:5T7ywazdGIydr6JCW6t02j\n",
      "track    : Rock with You - Single Version| uri: spotify:track:7oOOI85fVQvVnK5ynNMdW7\n"
     ]
    }
   ],
   "source": [
    "#Review How Spotipy Returns Track URIs\n",
    "for track in tracks['tracks'][:5]:\n",
    "    print('track    : ' + track['name'] + '| uri: ' + track['uri'])"
   ]
  },
  {
   "cell_type": "code",
   "execution_count": 23,
   "metadata": {},
   "outputs": [
    {
     "name": "stdout",
     "output_type": "stream",
     "text": [
      "[{'danceability': 0.853, 'energy': 0.981, 'key': 8, 'loudness': -3.947, 'mode': 1, 'speechiness': 0.0751, 'acousticness': 0.247, 'instrumentalness': 0.468, 'liveness': 0.306, 'valence': 0.595, 'tempo': 118.193, 'type': 'audio_features', 'id': '2bCQHF9gdG5BNDVuEIEnNk', 'uri': 'spotify:track:2bCQHF9gdG5BNDVuEIEnNk', 'track_href': 'https://api.spotify.com/v1/tracks/2bCQHF9gdG5BNDVuEIEnNk', 'analysis_url': 'https://api.spotify.com/v1/audio-analysis/2bCQHF9gdG5BNDVuEIEnNk', 'duration_ms': 257760, 'time_signature': 4}]\n"
     ]
    },
    {
     "data": {
      "text/plain": [
       "dict"
      ]
     },
     "execution_count": 23,
     "metadata": {},
     "output_type": "execute_result"
    }
   ],
   "source": [
    "#Test Spotipy Audio Features Method\n",
    "track1 = sp.audio_features('spotify:track:2bCQHF9gdG5BNDVuEIEnNk')\n",
    "print(track1)\n",
    "type(track1[0])"
   ]
  },
  {
   "cell_type": "code",
   "execution_count": 24,
   "metadata": {},
   "outputs": [
    {
     "data": {
      "text/plain": [
       "Int64Index([383], dtype='int64')"
      ]
     },
     "execution_count": 24,
     "metadata": {},
     "output_type": "execute_result"
    }
   ],
   "source": [
    "#Find Index of Artist Error\n",
    "genre_artist_df[genre_artist_df['Artist'] == 'Diplo feat. Lil Pump, Juicy J, Famous Dex & French Montana'].index"
   ]
  },
  {
   "cell_type": "code",
   "execution_count": 25,
   "metadata": {},
   "outputs": [
    {
     "data": {
      "text/plain": [
       "459"
      ]
     },
     "execution_count": 25,
     "metadata": {},
     "output_type": "execute_result"
    }
   ],
   "source": [
    "#Remove Error From DataFrame\n",
    "cleaned_artist_df =genre_artist_df.drop(genre_artist_df.index[383], axis=0)\n",
    "len(cleaned_artist_df)"
   ]
  },
  {
   "cell_type": "code",
   "execution_count": 26,
   "metadata": {},
   "outputs": [],
   "source": [
    "#Create a Dictionary as a Placeholder for Errors in API Request\n",
    "error_dict = {'danceability': 'NA', 'energy': 'NA', 'key': 'NA', 'loudness': 'NA', 'mode': 'NA',\n",
    " 'speechiness': 'NA', 'acousticness': 'NA', 'instrumentalness': 'NA', 'liveness': 'NA', \n",
    " 'valence': 'NA', 'tempo': 'NA', 'type': 'audio_features', 'id': 'NA', \n",
    " 'uri': 'NA', 'track_href': 'NA', \n",
    " 'analysis_url': 'NA', 'duration_ms': 'NA', 'time_signature': 'NA'}"
   ]
  },
  {
   "cell_type": "code",
   "execution_count": 27,
   "metadata": {},
   "outputs": [
    {
     "name": "stdout",
     "output_type": "stream",
     "text": [
      "50 Reggae Lovers Rock Songs - Continuous Mix encountered an error!\n"
     ]
    }
   ],
   "source": [
    "#Create a List to Hold Track Features\n",
    "track_features = []\n",
    "\n",
    "#Nested API Calls to Get the Top 10 Tracks For Each Artist \n",
    "#& Then The Track Features For Each Track\n",
    "#If Any Errors, Print Artist Name, Return Artist Info and The Error Dictionary as Placeholder\n",
    "for s_id in cleaned_artist_df['Spotify ID']:\n",
    "    current_id = f'spotify:artist:{s_id}'\n",
    "    current_tracks = sp.artist_top_tracks(current_id,country='US')\n",
    "    try:\n",
    "        for track in current_tracks['tracks'][:10]:\n",
    "            track_info = {'Artist': track['album']['artists'][0]['name'], 'Track': track['name'], 'Track ID': track['uri']}\n",
    "            track_audiofeat = sp.audio_features(track['uri'])\n",
    "            track_info.update(track_audiofeat[0])\n",
    "            track_features.append(track_info)\n",
    "    except:\n",
    "        name = track['name']\n",
    "        print(f'{name} encountered an error!')\n",
    "        track_info = {'Artist': track['album']['artists'][0]['name'], 'Track': track['name'], 'Track ID': track['uri']}\n",
    "        track_info.update(error_dict)\n",
    "        track_features.append(track_info)"
   ]
  },
  {
   "cell_type": "code",
   "execution_count": 28,
   "metadata": {},
   "outputs": [
    {
     "data": {
      "text/html": [
       "<div>\n",
       "<style scoped>\n",
       "    .dataframe tbody tr th:only-of-type {\n",
       "        vertical-align: middle;\n",
       "    }\n",
       "\n",
       "    .dataframe tbody tr th {\n",
       "        vertical-align: top;\n",
       "    }\n",
       "\n",
       "    .dataframe thead th {\n",
       "        text-align: right;\n",
       "    }\n",
       "</style>\n",
       "<table border=\"1\" class=\"dataframe\">\n",
       "  <thead>\n",
       "    <tr style=\"text-align: right;\">\n",
       "      <th></th>\n",
       "      <th>Artist</th>\n",
       "      <th>Track</th>\n",
       "      <th>Track ID</th>\n",
       "      <th>danceability</th>\n",
       "      <th>energy</th>\n",
       "      <th>key</th>\n",
       "      <th>loudness</th>\n",
       "      <th>mode</th>\n",
       "      <th>speechiness</th>\n",
       "      <th>acousticness</th>\n",
       "      <th>...</th>\n",
       "      <th>liveness</th>\n",
       "      <th>valence</th>\n",
       "      <th>tempo</th>\n",
       "      <th>type</th>\n",
       "      <th>id</th>\n",
       "      <th>uri</th>\n",
       "      <th>track_href</th>\n",
       "      <th>analysis_url</th>\n",
       "      <th>duration_ms</th>\n",
       "      <th>time_signature</th>\n",
       "    </tr>\n",
       "  </thead>\n",
       "  <tbody>\n",
       "    <tr>\n",
       "      <th>0</th>\n",
       "      <td>Michael Jackson</td>\n",
       "      <td>Billie Jean</td>\n",
       "      <td>spotify:track:7J1uxwnxfQLu4APicE5Rnj</td>\n",
       "      <td>0.932</td>\n",
       "      <td>0.457</td>\n",
       "      <td>11</td>\n",
       "      <td>-9.62</td>\n",
       "      <td>0</td>\n",
       "      <td>0.0541</td>\n",
       "      <td>0.0173</td>\n",
       "      <td>...</td>\n",
       "      <td>0.0414</td>\n",
       "      <td>0.884</td>\n",
       "      <td>117.002</td>\n",
       "      <td>audio_features</td>\n",
       "      <td>7J1uxwnxfQLu4APicE5Rnj</td>\n",
       "      <td>spotify:track:7J1uxwnxfQLu4APicE5Rnj</td>\n",
       "      <td>https://api.spotify.com/v1/tracks/7J1uxwnxfQLu...</td>\n",
       "      <td>https://api.spotify.com/v1/audio-analysis/7J1u...</td>\n",
       "      <td>294227</td>\n",
       "      <td>4</td>\n",
       "    </tr>\n",
       "  </tbody>\n",
       "</table>\n",
       "<p>1 rows × 21 columns</p>\n",
       "</div>"
      ],
      "text/plain": [
       "            Artist        Track                              Track ID  \\\n",
       "0  Michael Jackson  Billie Jean  spotify:track:7J1uxwnxfQLu4APicE5Rnj   \n",
       "\n",
       "  danceability energy key loudness mode speechiness acousticness  ...  \\\n",
       "0        0.932  0.457  11    -9.62    0      0.0541       0.0173  ...   \n",
       "\n",
       "  liveness valence    tempo            type                      id  \\\n",
       "0   0.0414   0.884  117.002  audio_features  7J1uxwnxfQLu4APicE5Rnj   \n",
       "\n",
       "                                    uri  \\\n",
       "0  spotify:track:7J1uxwnxfQLu4APicE5Rnj   \n",
       "\n",
       "                                          track_href  \\\n",
       "0  https://api.spotify.com/v1/tracks/7J1uxwnxfQLu...   \n",
       "\n",
       "                                        analysis_url duration_ms  \\\n",
       "0  https://api.spotify.com/v1/audio-analysis/7J1u...      294227   \n",
       "\n",
       "  time_signature  \n",
       "0              4  \n",
       "\n",
       "[1 rows x 21 columns]"
      ]
     },
     "execution_count": 28,
     "metadata": {},
     "output_type": "execute_result"
    }
   ],
   "source": [
    "#Create a DataFrame From The Track Features List of Dictionaries\n",
    "track_feat_df = pd.DataFrame(track_features)\n",
    "track_feat_df.head(1)"
   ]
  },
  {
   "cell_type": "code",
   "execution_count": 29,
   "metadata": {},
   "outputs": [
    {
     "data": {
      "text/plain": [
       "Int64Index([2350], dtype='int64')"
      ]
     },
     "execution_count": 29,
     "metadata": {},
     "output_type": "execute_result"
    }
   ],
   "source": [
    "#Find Index of Track Error\n",
    "track_feat_df[track_feat_df['Track'] == '50 Reggae Lovers Rock Songs - Continuous Mix'].index"
   ]
  },
  {
   "cell_type": "code",
   "execution_count": 30,
   "metadata": {},
   "outputs": [
    {
     "data": {
      "text/plain": [
       "459"
      ]
     },
     "execution_count": 30,
     "metadata": {},
     "output_type": "execute_result"
    }
   ],
   "source": [
    "#Remove Track Error From DataFrame\n",
    "track_feat_df.drop(track_feat_df.index[2350], axis=0,inplace=True)\n",
    "len(cleaned_artist_df)"
   ]
  },
  {
   "cell_type": "code",
   "execution_count": 32,
   "metadata": {},
   "outputs": [
    {
     "data": {
      "text/html": [
       "<div>\n",
       "<style scoped>\n",
       "    .dataframe tbody tr th:only-of-type {\n",
       "        vertical-align: middle;\n",
       "    }\n",
       "\n",
       "    .dataframe tbody tr th {\n",
       "        vertical-align: top;\n",
       "    }\n",
       "\n",
       "    .dataframe thead th {\n",
       "        text-align: right;\n",
       "    }\n",
       "</style>\n",
       "<table border=\"1\" class=\"dataframe\">\n",
       "  <thead>\n",
       "    <tr style=\"text-align: right;\">\n",
       "      <th></th>\n",
       "      <th>Artist</th>\n",
       "      <th>Track</th>\n",
       "      <th>Track ID</th>\n",
       "      <th>danceability</th>\n",
       "      <th>energy</th>\n",
       "      <th>key</th>\n",
       "      <th>loudness</th>\n",
       "      <th>mode</th>\n",
       "      <th>speechiness</th>\n",
       "      <th>acousticness</th>\n",
       "      <th>...</th>\n",
       "      <th>type</th>\n",
       "      <th>id</th>\n",
       "      <th>uri</th>\n",
       "      <th>track_href</th>\n",
       "      <th>analysis_url</th>\n",
       "      <th>duration_ms</th>\n",
       "      <th>time_signature</th>\n",
       "      <th>Genre</th>\n",
       "      <th>Genre ID</th>\n",
       "      <th>Spotify ID</th>\n",
       "    </tr>\n",
       "  </thead>\n",
       "  <tbody>\n",
       "    <tr>\n",
       "      <th>0</th>\n",
       "      <td>Michael Jackson</td>\n",
       "      <td>Billie Jean</td>\n",
       "      <td>spotify:track:7J1uxwnxfQLu4APicE5Rnj</td>\n",
       "      <td>0.932</td>\n",
       "      <td>0.457</td>\n",
       "      <td>11</td>\n",
       "      <td>-9.62</td>\n",
       "      <td>0</td>\n",
       "      <td>0.0541</td>\n",
       "      <td>0.0173</td>\n",
       "      <td>...</td>\n",
       "      <td>audio_features</td>\n",
       "      <td>7J1uxwnxfQLu4APicE5Rnj</td>\n",
       "      <td>spotify:track:7J1uxwnxfQLu4APicE5Rnj</td>\n",
       "      <td>https://api.spotify.com/v1/tracks/7J1uxwnxfQLu...</td>\n",
       "      <td>https://api.spotify.com/v1/audio-analysis/7J1u...</td>\n",
       "      <td>294227</td>\n",
       "      <td>4</td>\n",
       "      <td>Pop</td>\n",
       "      <td>g.115</td>\n",
       "      <td>3fMbdgg4jU18AjLCKBhRSm</td>\n",
       "    </tr>\n",
       "  </tbody>\n",
       "</table>\n",
       "<p>1 rows × 24 columns</p>\n",
       "</div>"
      ],
      "text/plain": [
       "            Artist        Track                              Track ID  \\\n",
       "0  Michael Jackson  Billie Jean  spotify:track:7J1uxwnxfQLu4APicE5Rnj   \n",
       "\n",
       "  danceability energy key loudness mode speechiness acousticness  ...  \\\n",
       "0        0.932  0.457  11    -9.62    0      0.0541       0.0173  ...   \n",
       "\n",
       "             type                      id  \\\n",
       "0  audio_features  7J1uxwnxfQLu4APicE5Rnj   \n",
       "\n",
       "                                    uri  \\\n",
       "0  spotify:track:7J1uxwnxfQLu4APicE5Rnj   \n",
       "\n",
       "                                          track_href  \\\n",
       "0  https://api.spotify.com/v1/tracks/7J1uxwnxfQLu...   \n",
       "\n",
       "                                        analysis_url duration_ms  \\\n",
       "0  https://api.spotify.com/v1/audio-analysis/7J1u...      294227   \n",
       "\n",
       "  time_signature Genre Genre ID              Spotify ID  \n",
       "0              4   Pop    g.115  3fMbdgg4jU18AjLCKBhRSm  \n",
       "\n",
       "[1 rows x 24 columns]"
      ]
     },
     "execution_count": 32,
     "metadata": {},
     "output_type": "execute_result"
    }
   ],
   "source": [
    "#Combine Track Features DataFrame with Genre DataFrame\n",
    "merged_genre_tracks = pd.merge(track_feat_df,genre_artist_df,how='left', on='Artist')\n",
    "merged_genre_tracks.head(1)"
   ]
  },
  {
   "cell_type": "code",
   "execution_count": 33,
   "metadata": {},
   "outputs": [],
   "source": [
    "#Save Final DataSet to CSV File to be used for Analysis\n",
    "merged_genre_tracks.to_csv('../Music-Research-Project-1/Resources/api_dataset.csv')"
   ]
  }
 ],
 "metadata": {
  "kernelspec": {
   "display_name": "Python 3.9.12 ('base')",
   "language": "python",
   "name": "python3"
  },
  "language_info": {
   "codemirror_mode": {
    "name": "ipython",
    "version": 3
   },
   "file_extension": ".py",
   "mimetype": "text/x-python",
   "name": "python",
   "nbconvert_exporter": "python",
   "pygments_lexer": "ipython3",
   "version": "3.9.12"
  },
  "orig_nbformat": 4,
  "vscode": {
   "interpreter": {
    "hash": "545ca857da9e94b3c655ab355bd27153c36785e8b97b5a7c0076172ececba3e4"
   }
  }
 },
 "nbformat": 4,
 "nbformat_minor": 2
}
