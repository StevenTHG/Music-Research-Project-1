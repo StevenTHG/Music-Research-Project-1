{
 "cells": [
  {
   "cell_type": "code",
   "execution_count": 61,
   "metadata": {},
   "outputs": [],
   "source": [
    "#Import Dependencies\n",
    "import pandas as pd\n",
    "import numpy as np\n",
    "import matplotlib.pyplot as plt\n",
    "import scipy.stats as st"
   ]
  },
  {
   "cell_type": "code",
   "execution_count": 62,
   "metadata": {},
   "outputs": [],
   "source": [
    "#Read Top Tracks File into a DataFrame\n",
    "top_tracks_df = pd.read_csv('../Music-Research-Project-1/Resources/top_tracks_genre.csv')"
   ]
  },
  {
   "cell_type": "code",
   "execution_count": 63,
   "metadata": {},
   "outputs": [
    {
     "data": {
      "text/plain": [
       "Index(['Unnamed: 0', 'Artist', 'Track', 'Track ID', 'danceability', 'energy',\n",
       "       'key', 'loudness', 'mode', 'speechiness', 'acousticness',\n",
       "       'instrumentalness', 'liveness', 'valence', 'tempo', 'type', 'id', 'uri',\n",
       "       'track_href', 'analysis_url', 'duration_ms', 'time_signature', 'Genre',\n",
       "       'Genre ID', 'Spotify ID'],\n",
       "      dtype='object')"
      ]
     },
     "execution_count": 63,
     "metadata": {},
     "output_type": "execute_result"
    }
   ],
   "source": [
    "#Get Column Names to Trim\n",
    "top_tracks_df.columns"
   ]
  },
  {
   "cell_type": "code",
   "execution_count": 64,
   "metadata": {},
   "outputs": [],
   "source": [
    "#Create DataFrame of Cleaned Statistics\n",
    "top_tracks_cleaned = top_tracks_df.loc[:,['Artist', 'Track', 'danceability', 'energy',\n",
    "       'key', 'speechiness', 'acousticness',\n",
    "       'instrumentalness', 'liveness', 'valence', 'tempo', 'duration_ms', 'time_signature', 'Genre'\n",
    "       ]]"
   ]
  },
  {
   "cell_type": "code",
   "execution_count": 65,
   "metadata": {},
   "outputs": [],
   "source": [
    "#Round statistics for readability\n",
    "top_tracks_cleaned['danceability'] = top_tracks_cleaned['danceability'].round(2)\n",
    "top_tracks_cleaned['energy'] = top_tracks_cleaned['energy'].round(2)\n",
    "top_tracks_cleaned['speechiness'] = top_tracks_cleaned['speechiness'].round(2)\n",
    "top_tracks_cleaned['acousticness'] = top_tracks_cleaned['acousticness'].round(2)\n",
    "top_tracks_cleaned['instrumentalness'] = top_tracks_cleaned['instrumentalness'].round(2)\n",
    "top_tracks_cleaned['liveness'] = top_tracks_cleaned['liveness'].round(2)\n",
    "top_tracks_cleaned['valence'] = top_tracks_cleaned['valence'].round(2)\n",
    "top_tracks_cleaned['tempo'] = top_tracks_cleaned['tempo'].round(0)"
   ]
  },
  {
   "cell_type": "code",
   "execution_count": 66,
   "metadata": {},
   "outputs": [],
   "source": [
    "#Create a new column to replace duration in milliseconds\n",
    "top_tracks_cleaned['Length (mins)'] = (top_tracks_cleaned['duration_ms'] / 1000 / 60).round(2)\n",
    "top_tracks_cleaned.drop('duration_ms', axis=1, inplace=True)"
   ]
  },
  {
   "cell_type": "code",
   "execution_count": 67,
   "metadata": {},
   "outputs": [],
   "source": [
    "#Rename columns for consistency\n",
    "top_tracks_cleaned.rename(columns={'danceability':'Danceability', 'energy':'Energy',\n",
    "       'key': 'Key', 'speechiness': 'Speechiness', 'acousticness':'Acousticness',\n",
    "       'instrumentalness':'Instrumentalness', 'liveness':'Liveness', 'valence':'Valence', 'tempo':'Tempo', 'time_signature': 'Time Signature'}, inplace=True)"
   ]
  },
  {
   "cell_type": "code",
   "execution_count": 68,
   "metadata": {},
   "outputs": [
    {
     "data": {
      "text/html": [
       "<div>\n",
       "<style scoped>\n",
       "    .dataframe tbody tr th:only-of-type {\n",
       "        vertical-align: middle;\n",
       "    }\n",
       "\n",
       "    .dataframe tbody tr th {\n",
       "        vertical-align: top;\n",
       "    }\n",
       "\n",
       "    .dataframe thead th {\n",
       "        text-align: right;\n",
       "    }\n",
       "</style>\n",
       "<table border=\"1\" class=\"dataframe\">\n",
       "  <thead>\n",
       "    <tr style=\"text-align: right;\">\n",
       "      <th></th>\n",
       "      <th>Artist</th>\n",
       "      <th>Track</th>\n",
       "      <th>Danceability</th>\n",
       "      <th>Energy</th>\n",
       "      <th>Key</th>\n",
       "      <th>Speechiness</th>\n",
       "      <th>Acousticness</th>\n",
       "      <th>Instrumentalness</th>\n",
       "      <th>Liveness</th>\n",
       "      <th>Valence</th>\n",
       "      <th>Tempo</th>\n",
       "      <th>Time Signature</th>\n",
       "      <th>Genre</th>\n",
       "      <th>Length (mins)</th>\n",
       "    </tr>\n",
       "  </thead>\n",
       "  <tbody>\n",
       "    <tr>\n",
       "      <th>0</th>\n",
       "      <td>Michael Jackson</td>\n",
       "      <td>Billie Jean</td>\n",
       "      <td>0.92</td>\n",
       "      <td>0.65</td>\n",
       "      <td>11.0</td>\n",
       "      <td>0.04</td>\n",
       "      <td>0.02</td>\n",
       "      <td>0.02</td>\n",
       "      <td>0.04</td>\n",
       "      <td>0.85</td>\n",
       "      <td>117.0</td>\n",
       "      <td>4.0</td>\n",
       "      <td>Pop</td>\n",
       "      <td>4.9</td>\n",
       "    </tr>\n",
       "  </tbody>\n",
       "</table>\n",
       "</div>"
      ],
      "text/plain": [
       "            Artist        Track  Danceability  Energy   Key  Speechiness  \\\n",
       "0  Michael Jackson  Billie Jean          0.92    0.65  11.0         0.04   \n",
       "\n",
       "   Acousticness  Instrumentalness  Liveness  Valence  Tempo  Time Signature  \\\n",
       "0          0.02              0.02      0.04     0.85  117.0             4.0   \n",
       "\n",
       "  Genre  Length (mins)  \n",
       "0   Pop            4.9  "
      ]
     },
     "execution_count": 68,
     "metadata": {},
     "output_type": "execute_result"
    }
   ],
   "source": [
    "#Check cleaned product before statistical analysis\n",
    "top_tracks_cleaned.head(1)"
   ]
  },
  {
   "cell_type": "code",
   "execution_count": 69,
   "metadata": {},
   "outputs": [],
   "source": [
    "grouped_genres = top_tracks_cleaned.groupby('Genre')"
   ]
  },
  {
   "cell_type": "code",
   "execution_count": 77,
   "metadata": {},
   "outputs": [],
   "source": [
    "score_columns = ['Danceability','Energy','Speechiness','Acousticness','Instrumentalness','Liveness','Valence']"
   ]
  },
  {
   "cell_type": "code",
   "execution_count": 78,
   "metadata": {},
   "outputs": [
    {
     "data": {
      "text/plain": [
       "<AxesSubplot:>"
      ]
     },
     "execution_count": 78,
     "metadata": {},
     "output_type": "execute_result"
    },
    {
     "data": {
      "image/png": "[encoded data removed]",
      "text/plain": [
       "<Figure size 432x288 with 1 Axes>"
      ]
     },
     "metadata": {
      "needs_background": "light"
     },
     "output_type": "display_data"
    }
   ],
   "source": [
    "#BoxPlot of Means\n",
    "grouped_genres[score_columns].mean().round(2).plot(kind='box',rot=90)"
   ]
  },
  {
   "cell_type": "code",
   "execution_count": 79,
   "metadata": {},
   "outputs": [
    {
     "data": {
      "text/plain": [
       "<AxesSubplot:>"
      ]
     },
     "execution_count": 79,
     "metadata": {},
     "output_type": "execute_result"
    },
    {
     "data": {
      "image/png": "[encoded data removed]",
      "text/plain": [
       "<Figure size 432x288 with 1 Axes>"
      ]
     },
     "metadata": {
      "needs_background": "light"
     },
     "output_type": "display_data"
    }
   ],
   "source": [
    "#BoxPlot of Medians\n",
    "grouped_genres[score_columns].median().round(2).plot(kind='box',rot=90)"
   ]
  },
  {
   "cell_type": "code",
   "execution_count": 85,
   "metadata": {},
   "outputs": [
    {
     "data": {
      "text/plain": [
       "<AxesSubplot:xlabel='Length (mins)', ylabel='Tempo'>"
      ]
     },
     "execution_count": 85,
     "metadata": {},
     "output_type": "execute_result"
    },
    {
     "data": {
      "image/png": "[encoded data removed]",
      "text/plain": [
       "<Figure size 432x288 with 1 Axes>"
      ]
     },
     "metadata": {
      "needs_background": "light"
     },
     "output_type": "display_data"
    }
   ],
   "source": [
    "#Length vs. Tempo (without outlier of 60 min song)\n",
    "top_tracks_cleaned.loc[top_tracks_cleaned['Length (mins)']<20].plot(x='Length (mins)',y='Tempo',kind='scatter')"
   ]
  },
  {
   "cell_type": "code",
   "execution_count": null,
   "metadata": {},
   "outputs": [],
   "source": []
  }
 ],
 "metadata": {
  "kernelspec": {
   "display_name": "Python 3.9.12 ('base')",
   "language": "python",
   "name": "python3"
  },
  "language_info": {
   "codemirror_mode": {
    "name": "ipython",
    "version": 3
   },
   "file_extension": ".py",
   "mimetype": "text/x-python",
   "name": "python",
   "nbconvert_exporter": "python",
   "pygments_lexer": "ipython3",
   "version": "3.9.12"
  },
  "orig_nbformat": 4,
  "vscode": {
   "interpreter": {
    "hash": "545ca857da9e94b3c655ab355bd27153c36785e8b97b5a7c0076172ececba3e4"
   }
  }
 },
 "nbformat": 4,
 "nbformat_minor": 2
}
